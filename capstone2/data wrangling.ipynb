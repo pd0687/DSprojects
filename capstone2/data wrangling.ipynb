{
 "cells": [
  {
   "cell_type": "code",
   "execution_count": 115,
   "metadata": {
    "scrolled": true
   },
   "outputs": [],
   "source": [
    "import pandas as pd\n",
    "import numpy as np\n",
    "from scipy.stats import rankdata"
   ]
  },
  {
   "cell_type": "code",
   "execution_count": 116,
   "metadata": {
    "scrolled": true
   },
   "outputs": [],
   "source": [
    "data = pd.read_csv('SPC_1500_40.csv', header=0)"
   ]
  },
  {
   "cell_type": "markdown",
   "metadata": {},
   "source": [
    "Only keep the necessary columns"
   ]
  },
  {
   "cell_type": "code",
   "execution_count": 117,
   "metadata": {
    "scrolled": true
   },
   "outputs": [],
   "source": [
    "data = data[['EFFECTIVE DATE', 'COMPANY', 'CUSIP', 'SALES-PRICE', 'BV-PRICE', 'EPS_MINUS_3M-PRICE', 'ROA', \\\n",
    "             'EPS-PRICE', 'PRICE MOM', 'NEXT MONTH TR']]"
   ]
  },
  {
   "cell_type": "code",
   "execution_count": 118,
   "metadata": {
    "scrolled": true
   },
   "outputs": [
    {
     "data": {
      "text/html": [
       "<div>\n",
       "<style scoped>\n",
       "    .dataframe tbody tr th:only-of-type {\n",
       "        vertical-align: middle;\n",
       "    }\n",
       "\n",
       "    .dataframe tbody tr th {\n",
       "        vertical-align: top;\n",
       "    }\n",
       "\n",
       "    .dataframe thead th {\n",
       "        text-align: right;\n",
       "    }\n",
       "</style>\n",
       "<table border=\"1\" class=\"dataframe\">\n",
       "  <thead>\n",
       "    <tr style=\"text-align: right;\">\n",
       "      <th></th>\n",
       "      <th>EFFECTIVE DATE</th>\n",
       "      <th>COMPANY</th>\n",
       "      <th>CUSIP</th>\n",
       "      <th>SALES-PRICE</th>\n",
       "      <th>BV-PRICE</th>\n",
       "      <th>EPS_MINUS_3M-PRICE</th>\n",
       "      <th>ROA</th>\n",
       "      <th>EPS-PRICE</th>\n",
       "      <th>PRICE MOM</th>\n",
       "      <th>NEXT MONTH TR</th>\n",
       "    </tr>\n",
       "  </thead>\n",
       "  <tbody>\n",
       "    <tr>\n",
       "      <th>0</th>\n",
       "      <td>19941230</td>\n",
       "      <td>A.G. Edwards</td>\n",
       "      <td>281760108</td>\n",
       "      <td>71.035611</td>\n",
       "      <td>0.484281</td>\n",
       "      <td>0.077778</td>\n",
       "      <td>7.124138</td>\n",
       "      <td>0.081667</td>\n",
       "      <td>-0.060000</td>\n",
       "      <td>0.020833373</td>\n",
       "    </tr>\n",
       "    <tr>\n",
       "      <th>1</th>\n",
       "      <td>19941230</td>\n",
       "      <td>AFLAC Inc.</td>\n",
       "      <td>001055102</td>\n",
       "      <td>191.641594</td>\n",
       "      <td>0.045786</td>\n",
       "      <td>0.007188</td>\n",
       "      <td>1.819224</td>\n",
       "      <td>0.007188</td>\n",
       "      <td>-0.003956</td>\n",
       "      <td>0.08203125</td>\n",
       "    </tr>\n",
       "    <tr>\n",
       "      <th>2</th>\n",
       "      <td>19941230</td>\n",
       "      <td>AMRESCO Inc.</td>\n",
       "      <td>031909104</td>\n",
       "      <td>23.286519</td>\n",
       "      <td>3.566218</td>\n",
       "      <td>0.640000</td>\n",
       "      <td>19.328806</td>\n",
       "      <td>0.666667</td>\n",
       "      <td>-0.188811</td>\n",
       "      <td>-0.074074087</td>\n",
       "    </tr>\n",
       "    <tr>\n",
       "      <th>3</th>\n",
       "      <td>19941230</td>\n",
       "      <td>Aetna Inc. (Old)</td>\n",
       "      <td>008140105</td>\n",
       "      <td>380.604775</td>\n",
       "      <td>0.259135</td>\n",
       "      <td>0.025889</td>\n",
       "      <td>0.507874</td>\n",
       "      <td>0.023979</td>\n",
       "      <td>-0.029810</td>\n",
       "      <td>0.065039754</td>\n",
       "    </tr>\n",
       "    <tr>\n",
       "      <th>4</th>\n",
       "      <td>19941230</td>\n",
       "      <td>Ahmanson (H.F.) &amp; Co.</td>\n",
       "      <td>008677106</td>\n",
       "      <td>NaN</td>\n",
       "      <td>1.569836</td>\n",
       "      <td>0.120930</td>\n",
       "      <td>0.466019</td>\n",
       "      <td>0.112868</td>\n",
       "      <td>-0.119216</td>\n",
       "      <td>0.015503883</td>\n",
       "    </tr>\n",
       "  </tbody>\n",
       "</table>\n",
       "</div>"
      ],
      "text/plain": [
       "   EFFECTIVE DATE                COMPANY      CUSIP  SALES-PRICE  BV-PRICE  \\\n",
       "0        19941230           A.G. Edwards  281760108    71.035611  0.484281   \n",
       "1        19941230             AFLAC Inc.  001055102   191.641594  0.045786   \n",
       "2        19941230           AMRESCO Inc.  031909104    23.286519  3.566218   \n",
       "3        19941230       Aetna Inc. (Old)  008140105   380.604775  0.259135   \n",
       "4        19941230  Ahmanson (H.F.) & Co.  008677106          NaN  1.569836   \n",
       "\n",
       "   EPS_MINUS_3M-PRICE        ROA  EPS-PRICE  PRICE MOM NEXT MONTH TR  \n",
       "0            0.077778   7.124138   0.081667  -0.060000   0.020833373  \n",
       "1            0.007188   1.819224   0.007188  -0.003956    0.08203125  \n",
       "2            0.640000  19.328806   0.666667  -0.188811  -0.074074087  \n",
       "3            0.025889   0.507874   0.023979  -0.029810   0.065039754  \n",
       "4            0.120930   0.466019   0.112868  -0.119216   0.015503883  "
      ]
     },
     "execution_count": 118,
     "metadata": {},
     "output_type": "execute_result"
    }
   ],
   "source": [
    "data.head()"
   ]
  },
  {
   "cell_type": "markdown",
   "metadata": {},
   "source": [
    "Check data types"
   ]
  },
  {
   "cell_type": "code",
   "execution_count": 119,
   "metadata": {},
   "outputs": [
    {
     "data": {
      "text/plain": [
       "EFFECTIVE DATE          int64\n",
       "COMPANY                object\n",
       "CUSIP                  object\n",
       "SALES-PRICE           float64\n",
       "BV-PRICE              float64\n",
       "EPS_MINUS_3M-PRICE    float64\n",
       "ROA                   float64\n",
       "EPS-PRICE             float64\n",
       "PRICE MOM             float64\n",
       "NEXT MONTH TR          object\n",
       "dtype: object"
      ]
     },
     "execution_count": 119,
     "metadata": {},
     "output_type": "execute_result"
    }
   ],
   "source": [
    "data.dtypes"
   ]
  },
  {
   "cell_type": "markdown",
   "metadata": {},
   "source": [
    "NEXT MONTH TR needs to be coerced to float"
   ]
  },
  {
   "cell_type": "code",
   "execution_count": 120,
   "metadata": {},
   "outputs": [],
   "source": [
    "data['NEXT MONTH TR'] = pd.to_numeric(data['NEXT MONTH TR'], errors='coerce')"
   ]
  },
  {
   "cell_type": "code",
   "execution_count": 121,
   "metadata": {},
   "outputs": [
    {
     "data": {
      "text/plain": [
       "dtype('float64')"
      ]
     },
     "execution_count": 121,
     "metadata": {},
     "output_type": "execute_result"
    }
   ],
   "source": [
    "data['NEXT MONTH TR'].dtypes"
   ]
  },
  {
   "cell_type": "markdown",
   "metadata": {},
   "source": [
    "Check dimensions"
   ]
  },
  {
   "cell_type": "code",
   "execution_count": 122,
   "metadata": {
    "scrolled": true
   },
   "outputs": [
    {
     "data": {
      "text/plain": [
       "(54435, 10)"
      ]
     },
     "execution_count": 122,
     "metadata": {},
     "output_type": "execute_result"
    }
   ],
   "source": [
    "data.shape"
   ]
  },
  {
   "cell_type": "markdown",
   "metadata": {},
   "source": [
    "Verify that the dates are all end-of-month"
   ]
  },
  {
   "cell_type": "code",
   "execution_count": 123,
   "metadata": {
    "scrolled": true
   },
   "outputs": [
    {
     "data": {
      "text/plain": [
       "['31', '28', '26', '29', '27', '30']"
      ]
     },
     "execution_count": 123,
     "metadata": {},
     "output_type": "execute_result"
    }
   ],
   "source": [
    "list(set(data['EFFECTIVE DATE'].astype(str).str[-2:]))"
   ]
  },
  {
   "cell_type": "code",
   "execution_count": 124,
   "metadata": {
    "scrolled": true
   },
   "outputs": [
    {
     "name": "stdout",
     "output_type": "stream",
     "text": [
      "The data range from 19941230 to 20150731\n"
     ]
    }
   ],
   "source": [
    "print('The data range from', data['EFFECTIVE DATE'].min(), 'to', data['EFFECTIVE DATE'].max())"
   ]
  },
  {
   "cell_type": "markdown",
   "metadata": {},
   "source": [
    "Check to see how many nulls there are"
   ]
  },
  {
   "cell_type": "code",
   "execution_count": 125,
   "metadata": {
    "scrolled": true
   },
   "outputs": [
    {
     "data": {
      "text/plain": [
       "SALES-PRICE            562\n",
       "BV-PRICE              1327\n",
       "EPS_MINUS_3M-PRICE    1905\n",
       "ROA                   1628\n",
       "EPS-PRICE             1827\n",
       "PRICE MOM               25\n",
       "NEXT MONTH TR          424\n",
       "dtype: int64"
      ]
     },
     "execution_count": 125,
     "metadata": {},
     "output_type": "execute_result"
    }
   ],
   "source": [
    "data.iloc[:, 3:].isna().sum()"
   ]
  },
  {
   "cell_type": "markdown",
   "metadata": {},
   "source": [
    "Check to see how many rows are free of nulls"
   ]
  },
  {
   "cell_type": "code",
   "execution_count": 126,
   "metadata": {
    "scrolled": true
   },
   "outputs": [
    {
     "name": "stdout",
     "output_type": "stream",
     "text": [
      "50233\n"
     ]
    }
   ],
   "source": [
    "nonnull_rows = sum(data.iloc[:, 3:].isna().sum(axis=1) == 0)\n",
    "print(nonnull_rows)"
   ]
  },
  {
   "cell_type": "code",
   "execution_count": 127,
   "metadata": {
    "scrolled": true
   },
   "outputs": [
    {
     "name": "stdout",
     "output_type": "stream",
     "text": [
      "Approximately 92 percent of rows don't contain any null datapoints.  This is acceptable to the extent that any rows containing at least one null entry can be dropped\n"
     ]
    }
   ],
   "source": [
    "print('Approximately {0:.0f} percent of rows don\\'t contain any null datapoints.  This is acceptable to the extent that any \\\n",
    "rows containing at least one null entry can be dropped'.format(100*round(nonnull_rows / data.shape[0],2)))"
   ]
  },
  {
   "cell_type": "markdown",
   "metadata": {},
   "source": [
    "Drop rows containing any nulls"
   ]
  },
  {
   "cell_type": "code",
   "execution_count": 128,
   "metadata": {
    "scrolled": true
   },
   "outputs": [],
   "source": [
    "data.dropna(inplace=True)\n",
    "\n",
    "data.reset_index(inplace=True)"
   ]
  },
  {
   "cell_type": "code",
   "execution_count": 129,
   "metadata": {
    "scrolled": true
   },
   "outputs": [],
   "source": [
    "data.drop('index', axis=1, inplace=True)"
   ]
  },
  {
   "cell_type": "code",
   "execution_count": 130,
   "metadata": {
    "scrolled": true
   },
   "outputs": [
    {
     "data": {
      "text/html": [
       "<div>\n",
       "<style scoped>\n",
       "    .dataframe tbody tr th:only-of-type {\n",
       "        vertical-align: middle;\n",
       "    }\n",
       "\n",
       "    .dataframe tbody tr th {\n",
       "        vertical-align: top;\n",
       "    }\n",
       "\n",
       "    .dataframe thead th {\n",
       "        text-align: right;\n",
       "    }\n",
       "</style>\n",
       "<table border=\"1\" class=\"dataframe\">\n",
       "  <thead>\n",
       "    <tr style=\"text-align: right;\">\n",
       "      <th></th>\n",
       "      <th>EFFECTIVE DATE</th>\n",
       "      <th>COMPANY</th>\n",
       "      <th>CUSIP</th>\n",
       "      <th>SALES-PRICE</th>\n",
       "      <th>BV-PRICE</th>\n",
       "      <th>EPS_MINUS_3M-PRICE</th>\n",
       "      <th>ROA</th>\n",
       "      <th>EPS-PRICE</th>\n",
       "      <th>PRICE MOM</th>\n",
       "      <th>NEXT MONTH TR</th>\n",
       "    </tr>\n",
       "  </thead>\n",
       "  <tbody>\n",
       "    <tr>\n",
       "      <th>0</th>\n",
       "      <td>19941230</td>\n",
       "      <td>A.G. Edwards</td>\n",
       "      <td>281760108</td>\n",
       "      <td>71.035611</td>\n",
       "      <td>0.484281</td>\n",
       "      <td>0.077778</td>\n",
       "      <td>7.124138</td>\n",
       "      <td>0.081667</td>\n",
       "      <td>-0.060000</td>\n",
       "      <td>0.020833</td>\n",
       "    </tr>\n",
       "    <tr>\n",
       "      <th>1</th>\n",
       "      <td>19941230</td>\n",
       "      <td>AFLAC Inc.</td>\n",
       "      <td>001055102</td>\n",
       "      <td>191.641594</td>\n",
       "      <td>0.045786</td>\n",
       "      <td>0.007188</td>\n",
       "      <td>1.819224</td>\n",
       "      <td>0.007188</td>\n",
       "      <td>-0.003956</td>\n",
       "      <td>0.082031</td>\n",
       "    </tr>\n",
       "    <tr>\n",
       "      <th>2</th>\n",
       "      <td>19941230</td>\n",
       "      <td>AMRESCO Inc.</td>\n",
       "      <td>031909104</td>\n",
       "      <td>23.286519</td>\n",
       "      <td>3.566218</td>\n",
       "      <td>0.640000</td>\n",
       "      <td>19.328806</td>\n",
       "      <td>0.666667</td>\n",
       "      <td>-0.188811</td>\n",
       "      <td>-0.074074</td>\n",
       "    </tr>\n",
       "    <tr>\n",
       "      <th>3</th>\n",
       "      <td>19941230</td>\n",
       "      <td>Aetna Inc. (Old)</td>\n",
       "      <td>008140105</td>\n",
       "      <td>380.604775</td>\n",
       "      <td>0.259135</td>\n",
       "      <td>0.025889</td>\n",
       "      <td>0.507874</td>\n",
       "      <td>0.023979</td>\n",
       "      <td>-0.029810</td>\n",
       "      <td>0.065040</td>\n",
       "    </tr>\n",
       "    <tr>\n",
       "      <th>4</th>\n",
       "      <td>19941230</td>\n",
       "      <td>Alex Brown Inc</td>\n",
       "      <td>013902101</td>\n",
       "      <td>19.933761</td>\n",
       "      <td>0.573544</td>\n",
       "      <td>0.098765</td>\n",
       "      <td>5.829485</td>\n",
       "      <td>0.093498</td>\n",
       "      <td>0.027149</td>\n",
       "      <td>0.149794</td>\n",
       "    </tr>\n",
       "  </tbody>\n",
       "</table>\n",
       "</div>"
      ],
      "text/plain": [
       "   EFFECTIVE DATE           COMPANY      CUSIP  SALES-PRICE  BV-PRICE  \\\n",
       "0        19941230      A.G. Edwards  281760108    71.035611  0.484281   \n",
       "1        19941230        AFLAC Inc.  001055102   191.641594  0.045786   \n",
       "2        19941230      AMRESCO Inc.  031909104    23.286519  3.566218   \n",
       "3        19941230  Aetna Inc. (Old)  008140105   380.604775  0.259135   \n",
       "4        19941230    Alex Brown Inc  013902101    19.933761  0.573544   \n",
       "\n",
       "   EPS_MINUS_3M-PRICE        ROA  EPS-PRICE  PRICE MOM  NEXT MONTH TR  \n",
       "0            0.077778   7.124138   0.081667  -0.060000       0.020833  \n",
       "1            0.007188   1.819224   0.007188  -0.003956       0.082031  \n",
       "2            0.640000  19.328806   0.666667  -0.188811      -0.074074  \n",
       "3            0.025889   0.507874   0.023979  -0.029810       0.065040  \n",
       "4            0.098765   5.829485   0.093498   0.027149       0.149794  "
      ]
     },
     "execution_count": 130,
     "metadata": {},
     "output_type": "execute_result"
    }
   ],
   "source": [
    "data.head()"
   ]
  },
  {
   "cell_type": "code",
   "execution_count": 131,
   "metadata": {
    "scrolled": true
   },
   "outputs": [
    {
     "name": "stdout",
     "output_type": "stream",
     "text": [
      "The number of constituents at each month ranges from 137 to 292\n"
     ]
    }
   ],
   "source": [
    "print('The number of constituents at each month ranges from', \\\n",
    "      data.groupby(['EFFECTIVE DATE'])['EFFECTIVE DATE'].count().min(), 'to', \\\n",
    "      data.groupby(['EFFECTIVE DATE'])['EFFECTIVE DATE'].count().max())"
   ]
  },
  {
   "cell_type": "markdown",
   "metadata": {},
   "source": [
    "Engineer new feature: EPS-MOMENTUM =  EPS-PRICE / EPS_MINUS_3M-PRICE - 1"
   ]
  },
  {
   "cell_type": "code",
   "execution_count": 132,
   "metadata": {
    "scrolled": true
   },
   "outputs": [],
   "source": [
    "data['EPS-MOMENTUM'] = data['EPS-PRICE'] / data['EPS_MINUS_3M-PRICE'] - 1"
   ]
  },
  {
   "cell_type": "markdown",
   "metadata": {},
   "source": [
    "Check if NaN in the new feature (on account of, e.g., dividing by zero)"
   ]
  },
  {
   "cell_type": "code",
   "execution_count": 133,
   "metadata": {},
   "outputs": [
    {
     "data": {
      "text/plain": [
       "True"
      ]
     },
     "execution_count": 133,
     "metadata": {},
     "output_type": "execute_result"
    }
   ],
   "source": [
    "data['EPS-MOMENTUM'].isnull().any()"
   ]
  },
  {
   "cell_type": "markdown",
   "metadata": {},
   "source": [
    "Coerce NaN's in the new feature with 0"
   ]
  },
  {
   "cell_type": "code",
   "execution_count": 134,
   "metadata": {},
   "outputs": [],
   "source": [
    "data['EPS-MOMENTUM'].fillna(0, inplace=True)"
   ]
  },
  {
   "cell_type": "markdown",
   "metadata": {},
   "source": [
    "Check if infinity entries in the new feature"
   ]
  },
  {
   "cell_type": "code",
   "execution_count": 135,
   "metadata": {},
   "outputs": [
    {
     "data": {
      "text/plain": [
       "41"
      ]
     },
     "execution_count": 135,
     "metadata": {},
     "output_type": "execute_result"
    }
   ],
   "source": [
    "sum(data['EPS-MOMENTUM'] == np.inf) + sum(data['EPS-MOMENTUM'] == -np.inf)"
   ]
  },
  {
   "cell_type": "markdown",
   "metadata": {},
   "source": [
    "Coerce infinity to 9999, in order to conduct EDA and statistical analyses"
   ]
  },
  {
   "cell_type": "code",
   "execution_count": 136,
   "metadata": {},
   "outputs": [
    {
     "name": "stderr",
     "output_type": "stream",
     "text": [
      "C:\\Anaconda\\lib\\site-packages\\ipykernel_launcher.py:1: SettingWithCopyWarning: \n",
      "A value is trying to be set on a copy of a slice from a DataFrame\n",
      "\n",
      "See the caveats in the documentation: http://pandas.pydata.org/pandas-docs/stable/indexing.html#indexing-view-versus-copy\n",
      "  \"\"\"Entry point for launching an IPython kernel.\n"
     ]
    }
   ],
   "source": [
    "data['EPS-MOMENTUM'][(data['EPS-MOMENTUM'] == np.inf) | (data['EPS-MOMENTUM'] == -np.inf)] = 9999"
   ]
  },
  {
   "cell_type": "markdown",
   "metadata": {},
   "source": [
    "Rearrange/swap the last two columns so that the target (NEXT MONTH TR) is rightmost"
   ]
  },
  {
   "cell_type": "code",
   "execution_count": 137,
   "metadata": {},
   "outputs": [],
   "source": [
    "cols = data.columns.tolist()\n",
    "\n",
    "feature_col = cols[-1]\n",
    "target_col = cols[-2]\n",
    "\n",
    "cols = cols[:-2]\n",
    "\n",
    "cols.append(feature_col)\n",
    "cols.append(target_col)\n",
    "\n",
    "data = data[cols]"
   ]
  },
  {
   "cell_type": "markdown",
   "metadata": {},
   "source": [
    "Delete EPS_MINUS_3M-PRICE, as it was only needed in order to engineer EPS-MOMENTUM"
   ]
  },
  {
   "cell_type": "code",
   "execution_count": 138,
   "metadata": {},
   "outputs": [],
   "source": [
    "data.drop('EPS_MINUS_3M-PRICE', axis=1, inplace=True)"
   ]
  },
  {
   "cell_type": "code",
   "execution_count": 139,
   "metadata": {
    "scrolled": true
   },
   "outputs": [
    {
     "data": {
      "text/html": [
       "<div>\n",
       "<style scoped>\n",
       "    .dataframe tbody tr th:only-of-type {\n",
       "        vertical-align: middle;\n",
       "    }\n",
       "\n",
       "    .dataframe tbody tr th {\n",
       "        vertical-align: top;\n",
       "    }\n",
       "\n",
       "    .dataframe thead th {\n",
       "        text-align: right;\n",
       "    }\n",
       "</style>\n",
       "<table border=\"1\" class=\"dataframe\">\n",
       "  <thead>\n",
       "    <tr style=\"text-align: right;\">\n",
       "      <th></th>\n",
       "      <th>EFFECTIVE DATE</th>\n",
       "      <th>COMPANY</th>\n",
       "      <th>CUSIP</th>\n",
       "      <th>SALES-PRICE</th>\n",
       "      <th>BV-PRICE</th>\n",
       "      <th>ROA</th>\n",
       "      <th>EPS-PRICE</th>\n",
       "      <th>PRICE MOM</th>\n",
       "      <th>EPS-MOMENTUM</th>\n",
       "      <th>NEXT MONTH TR</th>\n",
       "    </tr>\n",
       "  </thead>\n",
       "  <tbody>\n",
       "    <tr>\n",
       "      <th>0</th>\n",
       "      <td>19941230</td>\n",
       "      <td>A.G. Edwards</td>\n",
       "      <td>281760108</td>\n",
       "      <td>71.035611</td>\n",
       "      <td>0.484281</td>\n",
       "      <td>7.124138</td>\n",
       "      <td>0.081667</td>\n",
       "      <td>-0.060000</td>\n",
       "      <td>0.050000</td>\n",
       "      <td>0.020833</td>\n",
       "    </tr>\n",
       "    <tr>\n",
       "      <th>1</th>\n",
       "      <td>19941230</td>\n",
       "      <td>AFLAC Inc.</td>\n",
       "      <td>001055102</td>\n",
       "      <td>191.641594</td>\n",
       "      <td>0.045786</td>\n",
       "      <td>1.819224</td>\n",
       "      <td>0.007188</td>\n",
       "      <td>-0.003956</td>\n",
       "      <td>0.000000</td>\n",
       "      <td>0.082031</td>\n",
       "    </tr>\n",
       "    <tr>\n",
       "      <th>2</th>\n",
       "      <td>19941230</td>\n",
       "      <td>AMRESCO Inc.</td>\n",
       "      <td>031909104</td>\n",
       "      <td>23.286519</td>\n",
       "      <td>3.566218</td>\n",
       "      <td>19.328806</td>\n",
       "      <td>0.666667</td>\n",
       "      <td>-0.188811</td>\n",
       "      <td>0.041667</td>\n",
       "      <td>-0.074074</td>\n",
       "    </tr>\n",
       "    <tr>\n",
       "      <th>3</th>\n",
       "      <td>19941230</td>\n",
       "      <td>Aetna Inc. (Old)</td>\n",
       "      <td>008140105</td>\n",
       "      <td>380.604775</td>\n",
       "      <td>0.259135</td>\n",
       "      <td>0.507874</td>\n",
       "      <td>0.023979</td>\n",
       "      <td>-0.029810</td>\n",
       "      <td>-0.073770</td>\n",
       "      <td>0.065040</td>\n",
       "    </tr>\n",
       "    <tr>\n",
       "      <th>4</th>\n",
       "      <td>19941230</td>\n",
       "      <td>Alex Brown Inc</td>\n",
       "      <td>013902101</td>\n",
       "      <td>19.933761</td>\n",
       "      <td>0.573544</td>\n",
       "      <td>5.829485</td>\n",
       "      <td>0.093498</td>\n",
       "      <td>0.027149</td>\n",
       "      <td>-0.053333</td>\n",
       "      <td>0.149794</td>\n",
       "    </tr>\n",
       "  </tbody>\n",
       "</table>\n",
       "</div>"
      ],
      "text/plain": [
       "   EFFECTIVE DATE           COMPANY      CUSIP  SALES-PRICE  BV-PRICE  \\\n",
       "0        19941230      A.G. Edwards  281760108    71.035611  0.484281   \n",
       "1        19941230        AFLAC Inc.  001055102   191.641594  0.045786   \n",
       "2        19941230      AMRESCO Inc.  031909104    23.286519  3.566218   \n",
       "3        19941230  Aetna Inc. (Old)  008140105   380.604775  0.259135   \n",
       "4        19941230    Alex Brown Inc  013902101    19.933761  0.573544   \n",
       "\n",
       "         ROA  EPS-PRICE  PRICE MOM  EPS-MOMENTUM  NEXT MONTH TR  \n",
       "0   7.124138   0.081667  -0.060000      0.050000       0.020833  \n",
       "1   1.819224   0.007188  -0.003956      0.000000       0.082031  \n",
       "2  19.328806   0.666667  -0.188811      0.041667      -0.074074  \n",
       "3   0.507874   0.023979  -0.029810     -0.073770       0.065040  \n",
       "4   5.829485   0.093498   0.027149     -0.053333       0.149794  "
      ]
     },
     "execution_count": 139,
     "metadata": {},
     "output_type": "execute_result"
    }
   ],
   "source": [
    "data.head()"
   ]
  },
  {
   "cell_type": "markdown",
   "metadata": {},
   "source": [
    "Create function that groups by date and discretizes the (continuous) features into 5 quantiles"
   ]
  },
  {
   "cell_type": "code",
   "execution_count": 140,
   "metadata": {
    "scrolled": true
   },
   "outputs": [],
   "source": [
    "def discretize(df, data_col, date_col = 'EFFECTIVE DATE'):\n",
    "    pct = df.groupby([date_col])[data_col].transform(lambda x: rankdata(x, 'average')/len(x))\n",
    "    df.new_col_name = [1 if x < 0.2 else \\\n",
    "                                2 if x < 0.4 else \\\n",
    "                                3 if x < 0.6 else \\\n",
    "                                4 if x < 0.8 else \\\n",
    "                                5 for x in pct]\n",
    "    return df.new_col_name"
   ]
  },
  {
   "cell_type": "code",
   "execution_count": 141,
   "metadata": {
    "scrolled": true
   },
   "outputs": [
    {
     "name": "stderr",
     "output_type": "stream",
     "text": [
      "C:\\Anaconda\\lib\\site-packages\\ipykernel_launcher.py:7: UserWarning: Pandas doesn't allow columns to be created via a new attribute name - see https://pandas.pydata.org/pandas-docs/stable/indexing.html#attribute-access\n",
      "  import sys\n"
     ]
    }
   ],
   "source": [
    "data['SALES-PRICE DISCRETE'] = discretize(data, 'SALES-PRICE')\n",
    "data['BV-PRICE DISCRETE'] = discretize(data, 'BV-PRICE')\n",
    "data['ROA DISCRETE'] = discretize(data, 'ROA')\n",
    "data['EPS-PRICE DISCRETE'] = discretize(data, 'EPS-PRICE')\n",
    "data['PRICE MOM DISCRETE'] = discretize(data, 'PRICE MOM')\n",
    "data['EPS-MOMENTUM DISCRETE'] = discretize(data, 'EPS-MOMENTUM')"
   ]
  },
  {
   "cell_type": "code",
   "execution_count": 142,
   "metadata": {
    "scrolled": true
   },
   "outputs": [
    {
     "data": {
      "text/html": [
       "<div>\n",
       "<style scoped>\n",
       "    .dataframe tbody tr th:only-of-type {\n",
       "        vertical-align: middle;\n",
       "    }\n",
       "\n",
       "    .dataframe tbody tr th {\n",
       "        vertical-align: top;\n",
       "    }\n",
       "\n",
       "    .dataframe thead th {\n",
       "        text-align: right;\n",
       "    }\n",
       "</style>\n",
       "<table border=\"1\" class=\"dataframe\">\n",
       "  <thead>\n",
       "    <tr style=\"text-align: right;\">\n",
       "      <th></th>\n",
       "      <th>EFFECTIVE DATE</th>\n",
       "      <th>COMPANY</th>\n",
       "      <th>CUSIP</th>\n",
       "      <th>SALES-PRICE</th>\n",
       "      <th>BV-PRICE</th>\n",
       "      <th>ROA</th>\n",
       "      <th>EPS-PRICE</th>\n",
       "      <th>PRICE MOM</th>\n",
       "      <th>EPS-MOMENTUM</th>\n",
       "      <th>NEXT MONTH TR</th>\n",
       "      <th>SALES-PRICE DISCRETE</th>\n",
       "      <th>BV-PRICE DISCRETE</th>\n",
       "      <th>ROA DISCRETE</th>\n",
       "      <th>EPS-PRICE DISCRETE</th>\n",
       "      <th>PRICE MOM DISCRETE</th>\n",
       "      <th>EPS-MOMENTUM DISCRETE</th>\n",
       "    </tr>\n",
       "  </thead>\n",
       "  <tbody>\n",
       "    <tr>\n",
       "      <th>0</th>\n",
       "      <td>19941230</td>\n",
       "      <td>A.G. Edwards</td>\n",
       "      <td>281760108</td>\n",
       "      <td>71.035611</td>\n",
       "      <td>0.484281</td>\n",
       "      <td>7.124138</td>\n",
       "      <td>0.081667</td>\n",
       "      <td>-0.060000</td>\n",
       "      <td>0.050000</td>\n",
       "      <td>0.020833</td>\n",
       "      <td>4</td>\n",
       "      <td>3</td>\n",
       "      <td>5</td>\n",
       "      <td>4</td>\n",
       "      <td>3</td>\n",
       "      <td>5</td>\n",
       "    </tr>\n",
       "    <tr>\n",
       "      <th>1</th>\n",
       "      <td>19941230</td>\n",
       "      <td>AFLAC Inc.</td>\n",
       "      <td>001055102</td>\n",
       "      <td>191.641594</td>\n",
       "      <td>0.045786</td>\n",
       "      <td>1.819224</td>\n",
       "      <td>0.007188</td>\n",
       "      <td>-0.003956</td>\n",
       "      <td>0.000000</td>\n",
       "      <td>0.082031</td>\n",
       "      <td>5</td>\n",
       "      <td>1</td>\n",
       "      <td>4</td>\n",
       "      <td>1</td>\n",
       "      <td>5</td>\n",
       "      <td>3</td>\n",
       "    </tr>\n",
       "    <tr>\n",
       "      <th>2</th>\n",
       "      <td>19941230</td>\n",
       "      <td>AMRESCO Inc.</td>\n",
       "      <td>031909104</td>\n",
       "      <td>23.286519</td>\n",
       "      <td>3.566218</td>\n",
       "      <td>19.328806</td>\n",
       "      <td>0.666667</td>\n",
       "      <td>-0.188811</td>\n",
       "      <td>0.041667</td>\n",
       "      <td>-0.074074</td>\n",
       "      <td>2</td>\n",
       "      <td>5</td>\n",
       "      <td>5</td>\n",
       "      <td>5</td>\n",
       "      <td>1</td>\n",
       "      <td>5</td>\n",
       "    </tr>\n",
       "    <tr>\n",
       "      <th>3</th>\n",
       "      <td>19941230</td>\n",
       "      <td>Aetna Inc. (Old)</td>\n",
       "      <td>008140105</td>\n",
       "      <td>380.604775</td>\n",
       "      <td>0.259135</td>\n",
       "      <td>0.507874</td>\n",
       "      <td>0.023979</td>\n",
       "      <td>-0.029810</td>\n",
       "      <td>-0.073770</td>\n",
       "      <td>0.065040</td>\n",
       "      <td>5</td>\n",
       "      <td>2</td>\n",
       "      <td>1</td>\n",
       "      <td>1</td>\n",
       "      <td>4</td>\n",
       "      <td>1</td>\n",
       "    </tr>\n",
       "    <tr>\n",
       "      <th>4</th>\n",
       "      <td>19941230</td>\n",
       "      <td>Alex Brown Inc</td>\n",
       "      <td>013902101</td>\n",
       "      <td>19.933761</td>\n",
       "      <td>0.573544</td>\n",
       "      <td>5.829485</td>\n",
       "      <td>0.093498</td>\n",
       "      <td>0.027149</td>\n",
       "      <td>-0.053333</td>\n",
       "      <td>0.149794</td>\n",
       "      <td>2</td>\n",
       "      <td>3</td>\n",
       "      <td>5</td>\n",
       "      <td>4</td>\n",
       "      <td>5</td>\n",
       "      <td>1</td>\n",
       "    </tr>\n",
       "  </tbody>\n",
       "</table>\n",
       "</div>"
      ],
      "text/plain": [
       "   EFFECTIVE DATE           COMPANY      CUSIP  SALES-PRICE  BV-PRICE  \\\n",
       "0        19941230      A.G. Edwards  281760108    71.035611  0.484281   \n",
       "1        19941230        AFLAC Inc.  001055102   191.641594  0.045786   \n",
       "2        19941230      AMRESCO Inc.  031909104    23.286519  3.566218   \n",
       "3        19941230  Aetna Inc. (Old)  008140105   380.604775  0.259135   \n",
       "4        19941230    Alex Brown Inc  013902101    19.933761  0.573544   \n",
       "\n",
       "         ROA  EPS-PRICE  PRICE MOM  EPS-MOMENTUM  NEXT MONTH TR  \\\n",
       "0   7.124138   0.081667  -0.060000      0.050000       0.020833   \n",
       "1   1.819224   0.007188  -0.003956      0.000000       0.082031   \n",
       "2  19.328806   0.666667  -0.188811      0.041667      -0.074074   \n",
       "3   0.507874   0.023979  -0.029810     -0.073770       0.065040   \n",
       "4   5.829485   0.093498   0.027149     -0.053333       0.149794   \n",
       "\n",
       "   SALES-PRICE DISCRETE  BV-PRICE DISCRETE  ROA DISCRETE  EPS-PRICE DISCRETE  \\\n",
       "0                     4                  3             5                   4   \n",
       "1                     5                  1             4                   1   \n",
       "2                     2                  5             5                   5   \n",
       "3                     5                  2             1                   1   \n",
       "4                     2                  3             5                   4   \n",
       "\n",
       "   PRICE MOM DISCRETE  EPS-MOMENTUM DISCRETE  \n",
       "0                   3                      5  \n",
       "1                   5                      3  \n",
       "2                   1                      5  \n",
       "3                   4                      1  \n",
       "4                   5                      1  "
      ]
     },
     "execution_count": 142,
     "metadata": {},
     "output_type": "execute_result"
    }
   ],
   "source": [
    "data.head()"
   ]
  },
  {
   "cell_type": "markdown",
   "metadata": {},
   "source": [
    "Create function that discretizes the target -- 1 if the next month's return lies above the median, 0 otherwise"
   ]
  },
  {
   "cell_type": "code",
   "execution_count": 143,
   "metadata": {},
   "outputs": [],
   "source": [
    "def discretize_target(df, target_col, date_col = 'EFFECTIVE DATE'):\n",
    "    pct = df.groupby([date_col])[target_col].transform(lambda x: rankdata(x, 'average')/len(x))\n",
    "    df.new_col_name = [1 if x > 0.5 else \\\n",
    "                                0 for x in pct]\n",
    "    return df.new_col_name"
   ]
  },
  {
   "cell_type": "code",
   "execution_count": 144,
   "metadata": {},
   "outputs": [],
   "source": [
    "data['NEXT MONTH TR DISCRETE'] = discretize_target(data, 'NEXT MONTH TR')"
   ]
  },
  {
   "cell_type": "code",
   "execution_count": 145,
   "metadata": {},
   "outputs": [
    {
     "data": {
      "text/html": [
       "<div>\n",
       "<style scoped>\n",
       "    .dataframe tbody tr th:only-of-type {\n",
       "        vertical-align: middle;\n",
       "    }\n",
       "\n",
       "    .dataframe tbody tr th {\n",
       "        vertical-align: top;\n",
       "    }\n",
       "\n",
       "    .dataframe thead th {\n",
       "        text-align: right;\n",
       "    }\n",
       "</style>\n",
       "<table border=\"1\" class=\"dataframe\">\n",
       "  <thead>\n",
       "    <tr style=\"text-align: right;\">\n",
       "      <th></th>\n",
       "      <th>EFFECTIVE DATE</th>\n",
       "      <th>COMPANY</th>\n",
       "      <th>CUSIP</th>\n",
       "      <th>SALES-PRICE</th>\n",
       "      <th>BV-PRICE</th>\n",
       "      <th>ROA</th>\n",
       "      <th>EPS-PRICE</th>\n",
       "      <th>PRICE MOM</th>\n",
       "      <th>EPS-MOMENTUM</th>\n",
       "      <th>NEXT MONTH TR</th>\n",
       "      <th>SALES-PRICE DISCRETE</th>\n",
       "      <th>BV-PRICE DISCRETE</th>\n",
       "      <th>ROA DISCRETE</th>\n",
       "      <th>EPS-PRICE DISCRETE</th>\n",
       "      <th>PRICE MOM DISCRETE</th>\n",
       "      <th>EPS-MOMENTUM DISCRETE</th>\n",
       "      <th>NEXT MONTH TR DISCRETE</th>\n",
       "    </tr>\n",
       "  </thead>\n",
       "  <tbody>\n",
       "    <tr>\n",
       "      <th>0</th>\n",
       "      <td>19941230</td>\n",
       "      <td>A.G. Edwards</td>\n",
       "      <td>281760108</td>\n",
       "      <td>71.035611</td>\n",
       "      <td>0.484281</td>\n",
       "      <td>7.124138</td>\n",
       "      <td>0.081667</td>\n",
       "      <td>-0.060000</td>\n",
       "      <td>0.050000</td>\n",
       "      <td>0.020833</td>\n",
       "      <td>4</td>\n",
       "      <td>3</td>\n",
       "      <td>5</td>\n",
       "      <td>4</td>\n",
       "      <td>3</td>\n",
       "      <td>5</td>\n",
       "      <td>0</td>\n",
       "    </tr>\n",
       "    <tr>\n",
       "      <th>1</th>\n",
       "      <td>19941230</td>\n",
       "      <td>AFLAC Inc.</td>\n",
       "      <td>001055102</td>\n",
       "      <td>191.641594</td>\n",
       "      <td>0.045786</td>\n",
       "      <td>1.819224</td>\n",
       "      <td>0.007188</td>\n",
       "      <td>-0.003956</td>\n",
       "      <td>0.000000</td>\n",
       "      <td>0.082031</td>\n",
       "      <td>5</td>\n",
       "      <td>1</td>\n",
       "      <td>4</td>\n",
       "      <td>1</td>\n",
       "      <td>5</td>\n",
       "      <td>3</td>\n",
       "      <td>1</td>\n",
       "    </tr>\n",
       "    <tr>\n",
       "      <th>2</th>\n",
       "      <td>19941230</td>\n",
       "      <td>AMRESCO Inc.</td>\n",
       "      <td>031909104</td>\n",
       "      <td>23.286519</td>\n",
       "      <td>3.566218</td>\n",
       "      <td>19.328806</td>\n",
       "      <td>0.666667</td>\n",
       "      <td>-0.188811</td>\n",
       "      <td>0.041667</td>\n",
       "      <td>-0.074074</td>\n",
       "      <td>2</td>\n",
       "      <td>5</td>\n",
       "      <td>5</td>\n",
       "      <td>5</td>\n",
       "      <td>1</td>\n",
       "      <td>5</td>\n",
       "      <td>0</td>\n",
       "    </tr>\n",
       "    <tr>\n",
       "      <th>3</th>\n",
       "      <td>19941230</td>\n",
       "      <td>Aetna Inc. (Old)</td>\n",
       "      <td>008140105</td>\n",
       "      <td>380.604775</td>\n",
       "      <td>0.259135</td>\n",
       "      <td>0.507874</td>\n",
       "      <td>0.023979</td>\n",
       "      <td>-0.029810</td>\n",
       "      <td>-0.073770</td>\n",
       "      <td>0.065040</td>\n",
       "      <td>5</td>\n",
       "      <td>2</td>\n",
       "      <td>1</td>\n",
       "      <td>1</td>\n",
       "      <td>4</td>\n",
       "      <td>1</td>\n",
       "      <td>1</td>\n",
       "    </tr>\n",
       "    <tr>\n",
       "      <th>4</th>\n",
       "      <td>19941230</td>\n",
       "      <td>Alex Brown Inc</td>\n",
       "      <td>013902101</td>\n",
       "      <td>19.933761</td>\n",
       "      <td>0.573544</td>\n",
       "      <td>5.829485</td>\n",
       "      <td>0.093498</td>\n",
       "      <td>0.027149</td>\n",
       "      <td>-0.053333</td>\n",
       "      <td>0.149794</td>\n",
       "      <td>2</td>\n",
       "      <td>3</td>\n",
       "      <td>5</td>\n",
       "      <td>4</td>\n",
       "      <td>5</td>\n",
       "      <td>1</td>\n",
       "      <td>1</td>\n",
       "    </tr>\n",
       "  </tbody>\n",
       "</table>\n",
       "</div>"
      ],
      "text/plain": [
       "   EFFECTIVE DATE           COMPANY      CUSIP  SALES-PRICE  BV-PRICE  \\\n",
       "0        19941230      A.G. Edwards  281760108    71.035611  0.484281   \n",
       "1        19941230        AFLAC Inc.  001055102   191.641594  0.045786   \n",
       "2        19941230      AMRESCO Inc.  031909104    23.286519  3.566218   \n",
       "3        19941230  Aetna Inc. (Old)  008140105   380.604775  0.259135   \n",
       "4        19941230    Alex Brown Inc  013902101    19.933761  0.573544   \n",
       "\n",
       "         ROA  EPS-PRICE  PRICE MOM  EPS-MOMENTUM  NEXT MONTH TR  \\\n",
       "0   7.124138   0.081667  -0.060000      0.050000       0.020833   \n",
       "1   1.819224   0.007188  -0.003956      0.000000       0.082031   \n",
       "2  19.328806   0.666667  -0.188811      0.041667      -0.074074   \n",
       "3   0.507874   0.023979  -0.029810     -0.073770       0.065040   \n",
       "4   5.829485   0.093498   0.027149     -0.053333       0.149794   \n",
       "\n",
       "   SALES-PRICE DISCRETE  BV-PRICE DISCRETE  ROA DISCRETE  EPS-PRICE DISCRETE  \\\n",
       "0                     4                  3             5                   4   \n",
       "1                     5                  1             4                   1   \n",
       "2                     2                  5             5                   5   \n",
       "3                     5                  2             1                   1   \n",
       "4                     2                  3             5                   4   \n",
       "\n",
       "   PRICE MOM DISCRETE  EPS-MOMENTUM DISCRETE  NEXT MONTH TR DISCRETE  \n",
       "0                   3                      5                       0  \n",
       "1                   5                      3                       1  \n",
       "2                   1                      5                       0  \n",
       "3                   4                      1                       1  \n",
       "4                   5                      1                       1  "
      ]
     },
     "execution_count": 145,
     "metadata": {},
     "output_type": "execute_result"
    }
   ],
   "source": [
    "data.head()"
   ]
  },
  {
   "cell_type": "code",
   "execution_count": 146,
   "metadata": {},
   "outputs": [],
   "source": [
    "data.to_csv('wrangled_data.csv', index=False)"
   ]
  }
 ],
 "metadata": {
  "kernelspec": {
   "display_name": "Python 3",
   "language": "python",
   "name": "python3"
  },
  "language_info": {
   "codemirror_mode": {
    "name": "ipython",
    "version": 3
   },
   "file_extension": ".py",
   "mimetype": "text/x-python",
   "name": "python",
   "nbconvert_exporter": "python",
   "pygments_lexer": "ipython3",
   "version": "3.7.1"
  }
 },
 "nbformat": 4,
 "nbformat_minor": 2
}
