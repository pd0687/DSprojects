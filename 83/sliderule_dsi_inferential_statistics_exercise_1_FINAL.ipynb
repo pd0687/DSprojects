{
 "cells": [
  {
   "cell_type": "markdown",
   "metadata": {},
   "source": [
    "# What is the True Normal Human Body Temperature? \n",
    "\n",
    "#### Background\n",
    "\n",
    "The mean normal body temperature was held to be 37$^{\\circ}$C or 98.6$^{\\circ}$F for more than 120 years since it was first conceptualized and reported by Carl Wunderlich in a famous 1868 book. But, is this value statistically correct?"
   ]
  },
  {
   "cell_type": "markdown",
   "metadata": {},
   "source": [
    "<h3>Exercises</h3>\n",
    "\n",
    "<p>In this exercise, you will analyze a dataset of human body temperatures and employ the concepts of hypothesis testing, confidence intervals, and statistical significance.</p>\n",
    "\n",
    "<p>Answer the following questions <b>in this notebook below and submit to your Github account</b>.</p> \n",
    "\n",
    "<ol>\n",
    "<li>  Is the distribution of body temperatures normal? \n",
    "    <ul>\n",
    "    <li> Although this is not a requirement for the Central Limit Theorem to hold (read the introduction on Wikipedia's page about the CLT carefully: https://en.wikipedia.org/wiki/Central_limit_theorem), it gives us some peace of mind that the population may also be normally distributed if we assume that this sample is representative of the population.\n",
    "    <li> Think about the way you're going to check for the normality of the distribution. Graphical methods are usually used first, but there are also other ways: https://en.wikipedia.org/wiki/Normality_test\n",
    "    </ul>\n",
    "<li>  Is the sample size large? Are the observations independent?\n",
    "    <ul>\n",
    "    <li> Remember that this is a condition for the Central Limit Theorem, and hence the statistical tests we are using, to apply.\n",
    "    </ul>\n",
    "<li>  Is the true population mean really 98.6 degrees F?\n",
    "    <ul>\n",
    "    <li> First, try a bootstrap hypothesis test.\n",
    "    <li> Now, let's try frequentist statistical testing. Would you use a one-sample or two-sample test? Why?\n",
    "    <li> In this situation, is it appropriate to use the $t$ or $z$ statistic? \n",
    "    <li> Now try using the other test. How is the result be different? Why?\n",
    "    </ul>\n",
    "<li>  Draw a small sample of size 10 from the data and repeat both frequentist tests. \n",
    "    <ul>\n",
    "    <li> Which one is the correct one to use? \n",
    "    <li> What do you notice? What does this tell you about the difference in application of the $t$ and $z$ statistic?\n",
    "    </ul>\n",
    "<li>  At what temperature should we consider someone's temperature to be \"abnormal\"?\n",
    "    <ul>\n",
    "    <li> As in the previous example, try calculating everything using the boostrap approach, as well as the frequentist approach.\n",
    "    <li> Start by computing the margin of error and confidence interval. When calculating the confidence interval, keep in mind that you should use the appropriate formula for one draw, and not N draws.\n",
    "    </ul>\n",
    "<li>  Is there a significant difference between males and females in normal temperature?\n",
    "    <ul>\n",
    "    <li> What testing approach did you use and why?\n",
    "    <li> Write a story with your conclusion in the context of the original problem.\n",
    "    </ul>\n",
    "</ol>\n",
    "\n",
    "You can include written notes in notebook cells using Markdown: \n",
    "   - In the control panel at the top, choose Cell > Cell Type > Markdown\n",
    "   - Markdown syntax: http://nestacms.com/docs/creating-content/markdown-cheat-sheet\n",
    "\n",
    "#### Resources\n",
    "\n",
    "+ Information and data sources: http://www.amstat.org/publications/jse/datasets/normtemp.txt, http://www.amstat.org/publications/jse/jse_data_archive.htm\n",
    "+ Markdown syntax: http://nestacms.com/docs/creating-content/markdown-cheat-sheet\n",
    "\n",
    "****"
   ]
  },
  {
   "cell_type": "code",
   "execution_count": 1,
   "metadata": {},
   "outputs": [],
   "source": [
    "import numpy as np\n",
    "import pandas as pd\n",
    "import matplotlib.pyplot as plt\n",
    "from scipy.stats import shapiro\n",
    "from scipy.stats import norm\n",
    "from scipy.stats import t\n",
    "\n",
    "df = pd.read_csv('data/human_body_temperature.csv')"
   ]
  },
  {
   "cell_type": "markdown",
   "metadata": {},
   "source": [
    "# Question 1"
   ]
  },
  {
   "cell_type": "code",
   "execution_count": 2,
   "metadata": {},
   "outputs": [
    {
     "data": {
      "image/png": "[encoded data removed]",
      "text/plain": [
       "<Figure size 432x288 with 1 Axes>"
      ]
     },
     "metadata": {
      "needs_background": "light"
     },
     "output_type": "display_data"
    },
    {
     "name": "stdout",
     "output_type": "stream",
     "text": [
      "Number of observations: 130\n",
      "Shapiro-Wilk: (0.9865769743919373, 0.2331680953502655)\n",
      "Plotting the histogram, computing Shapiro-Wilk, and observing that N = 130 suggest that body temperatures are normally distributed\n"
     ]
    }
   ],
   "source": [
    "# Your work here.\n",
    "\n",
    "df['temperature'].hist(bins=20)\n",
    "plt.title('Temperature')\n",
    "plt.show()\n",
    "\n",
    "print('Number of observations: {}'.format(df.shape[0]))\n",
    "print('Shapiro-Wilk:', shapiro(df['temperature']))\n",
    "print('Plotting the histogram, computing Shapiro-Wilk, and observing that N = 130 suggest that body temperatures are \\\n",
    "normally distributed')"
   ]
  },
  {
   "cell_type": "markdown",
   "metadata": {},
   "source": [
    "# Question 2"
   ]
  },
  {
   "cell_type": "code",
   "execution_count": 3,
   "metadata": {},
   "outputs": [
    {
     "name": "stdout",
     "output_type": "stream",
     "text": [
      "N = 130 > 30, hence the sample size is large\n",
      "It's not likely that one's body temperature would affect others', hence the observations are independent\n"
     ]
    }
   ],
   "source": [
    "print('N = 130 > 30, hence the sample size is large')\n",
    "print(\"It's not likely that one's body temperature would affect others', hence the observations are independent\")"
   ]
  },
  {
   "cell_type": "markdown",
   "metadata": {},
   "source": [
    "# Question 3 - bootstrap"
   ]
  },
  {
   "cell_type": "code",
   "execution_count": 4,
   "metadata": {},
   "outputs": [
    {
     "name": "stdout",
     "output_type": "stream",
     "text": [
      "null: the true population mean is NOT 98.6 degrees\n",
      "alternative: the true population mean IS 98.6 degrees\n",
      "The p_value is: 0.0000, hence we reject the null in favor of the alternative\n"
     ]
    }
   ],
   "source": [
    "# the below code is from DataCamp: https://www.datacamp.com/courses/statistical-thinking-in-python-part-2\n",
    "\n",
    "print('null: the true population mean is NOT 98.6 degrees')\n",
    "print('alternative: the true population mean IS 98.6 degrees')\n",
    "\n",
    "temp_shifted = df['temperature'] - df['temperature'].mean() + 98.6\n",
    "\n",
    "def diff_from_98(data, true_mean=98.6):\n",
    "    return np.mean(data) - true_mean\n",
    "\n",
    "def bootstrap_replicate_1d(data, func):\n",
    "    bs_sample = np.random.choice(data, len(data))\n",
    "    return func(bs_sample)\n",
    "\n",
    "def draw_bs_reps(data, func, size=1):\n",
    "    bs_replicates = np.empty(size)\n",
    "\n",
    "    for i in range(size):\n",
    "        bs_replicates[i] = bootstrap_replicate_1d(data, func)\n",
    "\n",
    "    return bs_replicates\n",
    "\n",
    "bs_replicates = draw_bs_reps(temp_shifted, diff_from_98, 10000)\n",
    "\n",
    "p_value = np.sum(bs_replicates <= diff_from_98(df['temperature'])) #/ 10000\n",
    "\n",
    "print('The p_value is: {0:.4f}, hence we reject the null in favor of the alternative'.format(p_value))"
   ]
  },
  {
   "cell_type": "markdown",
   "metadata": {},
   "source": [
    "# Question 3 - frequentist"
   ]
  },
  {
   "cell_type": "code",
   "execution_count": 5,
   "metadata": {},
   "outputs": [
    {
     "name": "stdout",
     "output_type": "stream",
     "text": [
      "Use a one-sample z-test: the observations are homogeneous (that is, the observations are not stratified, by, say, gender) and N = 130 > 30\n",
      "\n",
      "We have a Z-stat of -5.45 and a p-value of 0.0000, hence reject the null\n",
      "\n",
      "Now try t-test\n",
      "\n",
      "The t-stat is -5.45 and the p-value is 0.0000\n",
      "\n",
      "There would not be an appreciable difference in terms of statistical significance of the test statistic if a t-test were used instead of a z-test because at 130 - 1 = 129 degrees of freedom, such t-distribution would behave very similarly to a normal distribution\n"
     ]
    }
   ],
   "source": [
    "print('Use a one-sample z-test: the observations are homogeneous (that is, the observations are not stratified, \\\n",
    "by, say, gender) and N = 130 > 30')\n",
    "\n",
    "n = df['temperature'].count()\n",
    "\n",
    "X = df['temperature'].mean()\n",
    "mu = 98.6\n",
    "sigma = df['temperature'].std() / np.sqrt(n)\n",
    "\n",
    "Z = (X - mu) / sigma\n",
    "\n",
    "print('\\nWe have a Z-stat of {0:.2f} and a p-value of {1:.4f}, hence reject the null'.format(Z, norm.cdf(Z)))\n",
    "\n",
    "print('\\nNow try t-test')\n",
    "\n",
    "sigma_ttest = sigma\n",
    "\n",
    "tstat = (X - mu) / sigma_ttest\n",
    "\n",
    "print('\\nThe t-stat is {0:.2f} and the p-value is {1:.4f}'.format(tstat, t.cdf(tstat, n-1)))\n",
    "\n",
    "print('\\nThere would not be an appreciable difference in terms of statistical significance of the test statistic if a \\\n",
    "t-test were used instead of a z-test because at 130 - 1 = 129 degrees of freedom, such t-distribution would behave very \\\n",
    "similarly to a normal distribution')"
   ]
  },
  {
   "cell_type": "markdown",
   "metadata": {},
   "source": [
    "# Question 4"
   ]
  },
  {
   "cell_type": "code",
   "execution_count": 6,
   "metadata": {},
   "outputs": [
    {
     "name": "stdout",
     "output_type": "stream",
     "text": [
      "For the one-sample test, we have a t-stat of -2.50\n",
      "\n",
      "The two-sample t-stat is: -0.14 and the p-value is: 0.4453\n",
      "\n",
      "We're looking to see if the true population mean is 98.6 degrees, not to see if two samples' means are different, so the correct test to use is the one-sample test\n",
      "\n",
      "Given n = 10 < 30, the appropriate test to use is the t-test\n",
      "\n",
      "t-distributions have fatter tails than those of the normal distribution, allowing for a greater probability of rare events and hence less statistical significance, but the smaller the sample size, the greater the variability in terms of the computed test statistic\n"
     ]
    }
   ],
   "source": [
    "###### ensure reproducibility\n",
    "\n",
    "np.random.seed(1)\n",
    "\n",
    "###### one-sample test: random sample of size 10 drawn from df['temperature']\n",
    "\n",
    "n = 10\n",
    "\n",
    "x = np.random.choice(df['temperature'], n)\n",
    "x_mu = x.mean()\n",
    "x_sigma = x.std() / np.sqrt(n)\n",
    "x_var = x.var() / n\n",
    "mu = 98.6\n",
    "\n",
    "t_stat = (x_mu - mu) / x_sigma\n",
    "\n",
    "print('For the one-sample test, we have a t-stat of {0:.2f}'.format(t_stat))\n",
    "\n",
    "###### two-sample test: random sample of size 10 versus the entire df['temperature'], which is of size 130\n",
    "\n",
    "mu_130 = df['temperature'].mean()\n",
    "var_130 = df['temperature'].var()\n",
    "\n",
    "t_stat_two = ((mu_130 - x_mu) - 0) / np.sqrt(var_130 / df['temperature'].count() + x_var)\n",
    "\n",
    "print('\\nThe two-sample t-stat is: {0:.2f} and the p-value is: {1:.4f}'.format(t_stat_two, t.cdf(t_stat_two, n-1)))\n",
    "\n",
    "######\n",
    "\n",
    "print(\"\\nWe're looking to see if the true population mean is 98.6 degrees, not to see if two samples' means are different, \\\n",
    "so the correct test to use is the one-sample test\")\n",
    "\n",
    "print('\\nGiven n = 10 < 30, the appropriate test to use is the t-test')\n",
    "\n",
    "print('\\nt-distributions have fatter tails than those of the normal distribution, allowing for a greater probability of rare \\\n",
    "events and hence less statistical significance, but the smaller the sample size, the greater the variability in terms of \\\n",
    "the computed test statistic')"
   ]
  },
  {
   "cell_type": "markdown",
   "metadata": {},
   "source": [
    "# Question 5 - bootstrap"
   ]
  },
  {
   "cell_type": "code",
   "execution_count": 7,
   "metadata": {},
   "outputs": [
    {
     "name": "stdout",
     "output_type": "stream",
     "text": [
      "We deem \"abnormal\" to be any temperature that falls outside of the 2.5 or 97.5 percentile\n",
      "\n",
      "The 2.5th and 97.5th percentiles via bootstrapping is: 96.76, 99.58\n",
      "\n",
      "The actual 2.5th and 97.5th percentiles are: [96.7225 99.4775]\n"
     ]
    }
   ],
   "source": [
    "def pctiles2point5(data):\n",
    "    return np.percentile(data, 2.5)\n",
    "\n",
    "def pctiles97point5(data):\n",
    "    return np.percentile(data, 97.5)\n",
    "\n",
    "def bootstrap_replicate_1d(data, func):\n",
    "    bs_sample = np.random.choice(data, len(data))\n",
    "    return func(bs_sample)\n",
    "\n",
    "def draw_bs_reps(data, func, size=1):\n",
    "    bs_replicates = np.empty(size)\n",
    "    \n",
    "    for i in range(size):\n",
    "        bs_replicates[i] = bootstrap_replicate_1d(data, func)\n",
    "        \n",
    "    return bs_replicates\n",
    "\n",
    "bs_replicates_2point5 = draw_bs_reps(df['temperature'], pctiles2point5, 10000)\n",
    "bs_replicates_97point5 = draw_bs_reps(df['temperature'], pctiles97point5, 10000)\n",
    "\n",
    "print('We deem \"abnormal\" to be any temperature that falls outside of the 2.5 or 97.5 percentile')\n",
    "print('\\nThe 2.5th and 97.5th percentiles via bootstrapping is: {0:.2f}, {1:.2f}'.format(bs_replicates_2point5.mean(), \\\n",
    "                                                                             bs_replicates_97point5.mean()))\n",
    "print('\\nThe actual 2.5th and 97.5th percentiles are:', np.percentile(df['temperature'], [2.5, 97.5]))"
   ]
  },
  {
   "cell_type": "markdown",
   "metadata": {},
   "source": [
    "# Question 5 - frequentist"
   ]
  },
  {
   "cell_type": "code",
   "execution_count": 8,
   "metadata": {},
   "outputs": [
    {
     "name": "stdout",
     "output_type": "stream",
     "text": [
      "We denote via 95% confidence interval the range within which the true mean temperature lies, and by extension the range of temperatures that are deemed \"normal\"\n",
      "\n",
      "The 95% confidence interval for the true average temperature is: (96.81, 99.69)\n"
     ]
    }
   ],
   "source": [
    "# X-bar +/- 1.96 * sigma\n",
    "\n",
    "xbar = df['temperature'].mean()\n",
    "sig = df['temperature'].std()\n",
    "\n",
    "CI = (xbar - 1.96 * sig, xbar + 1.96 * sig)\n",
    "\n",
    "print(\"We denote via 95% confidence interval the range within which the true mean temperature lies, and by extension the \\\n",
    "range of temperatures that are deemed \\\"normal\\\"\")\n",
    "print('\\nThe 95% confidence interval for the true average temperature is: ({0:.2f}, {1:.2f})'.format(CI[0], CI[1]))"
   ]
  },
  {
   "cell_type": "markdown",
   "metadata": {},
   "source": [
    "# Question 6"
   ]
  },
  {
   "cell_type": "code",
   "execution_count": 9,
   "metadata": {},
   "outputs": [
    {
     "name": "stdout",
     "output_type": "stream",
     "text": [
      "Exploit the difference-of-means test by subsetting temperatures by gender\n",
      "\n",
      "The t-stat for the mean difference between male and female temperatures is: 2.29\n",
      "\n",
      "The p-value is: 0.0128\n",
      "\n",
      "Given the low p-value, we conclude that there is a significant difference between male and female temperatures\n",
      "\n",
      "Consistent with the standard test employed for difference of means, I opted for the t-test\n"
     ]
    }
   ],
   "source": [
    "# get males\n",
    "\n",
    "males = df[df['gender'] == 'M']['temperature']\n",
    "\n",
    "males_mu = males.mean()\n",
    "males_var = males.var() / len(males)\n",
    "\n",
    "# get females\n",
    "\n",
    "females = df[df['gender'] == 'F']['temperature']\n",
    "\n",
    "females_mu = females.mean()\n",
    "females_var = females.var() / len(females)\n",
    "\n",
    "# compute t-stat\n",
    "\n",
    "male_female_min = min(len(males), len(females))\n",
    "\n",
    "t_male_female = ((females_mu - males_mu) - 0) / np.sqrt(males_var + females_var)\n",
    "\n",
    "print('Exploit the difference-of-means test by subsetting temperatures by gender')\n",
    "print('\\nThe t-stat for the mean difference between male and female temperatures is: {0:.2f}'.format(t_male_female))\n",
    "print('\\nThe p-value is: {0:.4f}'.format(1-t.cdf(t_male_female, male_female_min-1)))\n",
    "print('\\nGiven the low p-value, we conclude that there is a significant difference between male and female temperatures')\n",
    "print('\\nConsistent with the standard test employed for difference of means, I opted for the t-test')"
   ]
  }
 ],
 "metadata": {
  "kernelspec": {
   "display_name": "Python 3",
   "language": "python",
   "name": "python3"
  },
  "language_info": {
   "codemirror_mode": {
    "name": "ipython",
    "version": 3
   },
   "file_extension": ".py",
   "mimetype": "text/x-python",
   "name": "python",
   "nbconvert_exporter": "python",
   "pygments_lexer": "ipython3",
   "version": "3.7.1"
  }
 },
 "nbformat": 4,
 "nbformat_minor": 1
}
