{
 "cells": [
  {
   "cell_type": "markdown",
   "metadata": {},
   "source": [
    "# Examining Racial Discrimination in the US Job Market\n",
    "\n",
    "### Background\n",
    "Racial discrimination continues to be pervasive in cultures throughout the world. Researchers examined the level of racial discrimination in the United States labor market by randomly assigning identical résumés to black-sounding or white-sounding names and observing the impact on requests for interviews from employers.\n",
    "\n",
    "### Data\n",
    "In the dataset provided, each row represents a resume. The 'race' column has two values, 'b' and 'w', indicating black-sounding and white-sounding. The column 'call' has two values, 1 and 0, indicating whether the resume received a call from employers or not.\n",
    "\n",
    "Note that the 'b' and 'w' values in race are assigned randomly to the resumes when presented to the employer."
   ]
  },
  {
   "cell_type": "markdown",
   "metadata": {},
   "source": [
    "### Exercises\n",
    "You will perform a statistical analysis to establish whether race has a significant impact on the rate of callbacks for resumes.\n",
    "\n",
    "Answer the following questions **in this notebook below and submit to your Github account**. \n",
    "\n",
    "   1. What test is appropriate for this problem? Does CLT apply?\n",
    "   2. What are the null and alternate hypotheses?\n",
    "   3. Compute margin of error, confidence interval, and p-value. Try using both the bootstrapping and the frequentist statistical approaches.\n",
    "   4. Write a story describing the statistical significance in the context or the original problem.\n",
    "   5. Does your analysis mean that race/name is the most important factor in callback success? Why or why not? If not, how would you amend your analysis?\n",
    "\n",
    "You can include written notes in notebook cells using Markdown: \n",
    "   - In the control panel at the top, choose Cell > Cell Type > Markdown\n",
    "   - Markdown syntax: http://nestacms.com/docs/creating-content/markdown-cheat-sheet\n",
    "\n",
    "#### Resources\n",
    "+ Experiment information and data source: http://www.povertyactionlab.org/evaluation/discrimination-job-market-united-states\n",
    "+ Scipy statistical methods: http://docs.scipy.org/doc/scipy/reference/stats.html \n",
    "+ Markdown syntax: http://nestacms.com/docs/creating-content/markdown-cheat-sheet\n",
    "+ Formulas for the Bernoulli distribution: https://en.wikipedia.org/wiki/Bernoulli_distribution"
   ]
  },
  {
   "cell_type": "code",
   "execution_count": 1,
   "metadata": {},
   "outputs": [],
   "source": [
    "import pandas as pd\n",
    "import numpy as np\n",
    "from scipy import stats"
   ]
  },
  {
   "cell_type": "code",
   "execution_count": 2,
   "metadata": {},
   "outputs": [],
   "source": [
    "data = pd.io.stata.read_stata('data/us_job_market_discrimination.dta')"
   ]
  },
  {
   "cell_type": "code",
   "execution_count": 3,
   "metadata": {},
   "outputs": [
    {
     "data": {
      "text/plain": [
       "235.0"
      ]
     },
     "execution_count": 3,
     "metadata": {},
     "output_type": "execute_result"
    }
   ],
   "source": [
    "# number of callbacks for black-sounding names\n",
    "sum(data[data.race=='w'].call)"
   ]
  },
  {
   "cell_type": "code",
   "execution_count": 4,
   "metadata": {},
   "outputs": [
    {
     "data": {
      "text/html": [
       "<div>\n",
       "<style scoped>\n",
       "    .dataframe tbody tr th:only-of-type {\n",
       "        vertical-align: middle;\n",
       "    }\n",
       "\n",
       "    .dataframe tbody tr th {\n",
       "        vertical-align: top;\n",
       "    }\n",
       "\n",
       "    .dataframe thead th {\n",
       "        text-align: right;\n",
       "    }\n",
       "</style>\n",
       "<table border=\"1\" class=\"dataframe\">\n",
       "  <thead>\n",
       "    <tr style=\"text-align: right;\">\n",
       "      <th></th>\n",
       "      <th>id</th>\n",
       "      <th>ad</th>\n",
       "      <th>education</th>\n",
       "      <th>ofjobs</th>\n",
       "      <th>yearsexp</th>\n",
       "      <th>honors</th>\n",
       "      <th>volunteer</th>\n",
       "      <th>military</th>\n",
       "      <th>empholes</th>\n",
       "      <th>occupspecific</th>\n",
       "      <th>...</th>\n",
       "      <th>compreq</th>\n",
       "      <th>orgreq</th>\n",
       "      <th>manuf</th>\n",
       "      <th>transcom</th>\n",
       "      <th>bankreal</th>\n",
       "      <th>trade</th>\n",
       "      <th>busservice</th>\n",
       "      <th>othservice</th>\n",
       "      <th>missind</th>\n",
       "      <th>ownership</th>\n",
       "    </tr>\n",
       "  </thead>\n",
       "  <tbody>\n",
       "    <tr>\n",
       "      <th>0</th>\n",
       "      <td>b</td>\n",
       "      <td>1</td>\n",
       "      <td>4</td>\n",
       "      <td>2</td>\n",
       "      <td>6</td>\n",
       "      <td>0</td>\n",
       "      <td>0</td>\n",
       "      <td>0</td>\n",
       "      <td>1</td>\n",
       "      <td>17</td>\n",
       "      <td>...</td>\n",
       "      <td>1.0</td>\n",
       "      <td>0.0</td>\n",
       "      <td>1.0</td>\n",
       "      <td>0.0</td>\n",
       "      <td>0.0</td>\n",
       "      <td>0.0</td>\n",
       "      <td>0.0</td>\n",
       "      <td>0.0</td>\n",
       "      <td>0.0</td>\n",
       "      <td></td>\n",
       "    </tr>\n",
       "    <tr>\n",
       "      <th>1</th>\n",
       "      <td>b</td>\n",
       "      <td>1</td>\n",
       "      <td>3</td>\n",
       "      <td>3</td>\n",
       "      <td>6</td>\n",
       "      <td>0</td>\n",
       "      <td>1</td>\n",
       "      <td>1</td>\n",
       "      <td>0</td>\n",
       "      <td>316</td>\n",
       "      <td>...</td>\n",
       "      <td>1.0</td>\n",
       "      <td>0.0</td>\n",
       "      <td>1.0</td>\n",
       "      <td>0.0</td>\n",
       "      <td>0.0</td>\n",
       "      <td>0.0</td>\n",
       "      <td>0.0</td>\n",
       "      <td>0.0</td>\n",
       "      <td>0.0</td>\n",
       "      <td></td>\n",
       "    </tr>\n",
       "    <tr>\n",
       "      <th>2</th>\n",
       "      <td>b</td>\n",
       "      <td>1</td>\n",
       "      <td>4</td>\n",
       "      <td>1</td>\n",
       "      <td>6</td>\n",
       "      <td>0</td>\n",
       "      <td>0</td>\n",
       "      <td>0</td>\n",
       "      <td>0</td>\n",
       "      <td>19</td>\n",
       "      <td>...</td>\n",
       "      <td>1.0</td>\n",
       "      <td>0.0</td>\n",
       "      <td>1.0</td>\n",
       "      <td>0.0</td>\n",
       "      <td>0.0</td>\n",
       "      <td>0.0</td>\n",
       "      <td>0.0</td>\n",
       "      <td>0.0</td>\n",
       "      <td>0.0</td>\n",
       "      <td></td>\n",
       "    </tr>\n",
       "    <tr>\n",
       "      <th>3</th>\n",
       "      <td>b</td>\n",
       "      <td>1</td>\n",
       "      <td>3</td>\n",
       "      <td>4</td>\n",
       "      <td>6</td>\n",
       "      <td>0</td>\n",
       "      <td>1</td>\n",
       "      <td>0</td>\n",
       "      <td>1</td>\n",
       "      <td>313</td>\n",
       "      <td>...</td>\n",
       "      <td>1.0</td>\n",
       "      <td>0.0</td>\n",
       "      <td>1.0</td>\n",
       "      <td>0.0</td>\n",
       "      <td>0.0</td>\n",
       "      <td>0.0</td>\n",
       "      <td>0.0</td>\n",
       "      <td>0.0</td>\n",
       "      <td>0.0</td>\n",
       "      <td></td>\n",
       "    </tr>\n",
       "    <tr>\n",
       "      <th>4</th>\n",
       "      <td>b</td>\n",
       "      <td>1</td>\n",
       "      <td>3</td>\n",
       "      <td>3</td>\n",
       "      <td>22</td>\n",
       "      <td>0</td>\n",
       "      <td>0</td>\n",
       "      <td>0</td>\n",
       "      <td>0</td>\n",
       "      <td>313</td>\n",
       "      <td>...</td>\n",
       "      <td>1.0</td>\n",
       "      <td>1.0</td>\n",
       "      <td>0.0</td>\n",
       "      <td>0.0</td>\n",
       "      <td>0.0</td>\n",
       "      <td>0.0</td>\n",
       "      <td>0.0</td>\n",
       "      <td>1.0</td>\n",
       "      <td>0.0</td>\n",
       "      <td>Nonprofit</td>\n",
       "    </tr>\n",
       "  </tbody>\n",
       "</table>\n",
       "<p>5 rows × 65 columns</p>\n",
       "</div>"
      ],
      "text/plain": [
       "  id ad  education  ofjobs  yearsexp  honors  volunteer  military  empholes  \\\n",
       "0  b  1          4       2         6       0          0         0         1   \n",
       "1  b  1          3       3         6       0          1         1         0   \n",
       "2  b  1          4       1         6       0          0         0         0   \n",
       "3  b  1          3       4         6       0          1         0         1   \n",
       "4  b  1          3       3        22       0          0         0         0   \n",
       "\n",
       "   occupspecific    ...      compreq  orgreq  manuf  transcom  bankreal trade  \\\n",
       "0             17    ...          1.0     0.0    1.0       0.0       0.0   0.0   \n",
       "1            316    ...          1.0     0.0    1.0       0.0       0.0   0.0   \n",
       "2             19    ...          1.0     0.0    1.0       0.0       0.0   0.0   \n",
       "3            313    ...          1.0     0.0    1.0       0.0       0.0   0.0   \n",
       "4            313    ...          1.0     1.0    0.0       0.0       0.0   0.0   \n",
       "\n",
       "  busservice othservice  missind  ownership  \n",
       "0        0.0        0.0      0.0             \n",
       "1        0.0        0.0      0.0             \n",
       "2        0.0        0.0      0.0             \n",
       "3        0.0        0.0      0.0             \n",
       "4        0.0        1.0      0.0  Nonprofit  \n",
       "\n",
       "[5 rows x 65 columns]"
      ]
     },
     "execution_count": 4,
     "metadata": {},
     "output_type": "execute_result"
    }
   ],
   "source": [
    "data.head()"
   ]
  },
  {
   "cell_type": "markdown",
   "metadata": {
    "collapsed": true
   },
   "source": [
    "<div class=\"span5 alert alert-success\">\n",
    "<p>Your answers to Q1 and Q2 here</p>\n",
    "</div>"
   ]
  },
  {
   "cell_type": "code",
   "execution_count": 5,
   "metadata": {},
   "outputs": [
    {
     "name": "stdout",
     "output_type": "stream",
     "text": [
      "1. For this problem, we should opt for the difference in proportions test.  More specifically, we should compute the proportions of candidates with white- and black-sounding names that do receive a call for an interview, and then test whether these two proportions are statistically different.\n",
      "\n",
      "2. The null hypothesis should be that the difference between the proportion of white- and black-sounding names that receive a call for an interview is zero, and the alternative hypothesis should be that there is a difference.  That is: \n",
      "\n",
      "H0: p_b - p_w = 0\n",
      "Ha: p_b - p_w != 0\n",
      "\n",
      "We can alter the alternative hypothesis by stating that the proportion of white-sounding names that receive an interview request is greater than that of black-sounding names:\n",
      "\n",
      "Ha2: p_b - p_w < 0\n"
     ]
    }
   ],
   "source": [
    "################################    1. What test is appropriate for this problem? Does CLT apply?\n",
    "################################    2. What are the null and alternate hypotheses?\n",
    "\n",
    "print('1. For this problem, we should opt for the difference in proportions test.  More specifically, we should compute the \\\n",
    "proportions of candidates with white- and black-sounding names that do receive a call for an interview, and then test \\\n",
    "whether these two proportions are statistically different.')\n",
    "\n",
    "print('\\n2. The null hypothesis should be that the difference between the proportion of white- and black-sounding names \\\n",
    "that receive a call for an interview is zero, and the alternative hypothesis should be that there is a difference.  That is: \\\n",
    "\\n\\nH0: p_b - p_w = 0\\nHa: p_b - p_w != 0\\n\\nWe can alter the alternative hypothesis by stating that the proportion of \\\n",
    "white-sounding names that receive an interview request is greater than that of black-sounding names:\\n\\nHa2: p_b - p_w < 0')"
   ]
  },
  {
   "cell_type": "markdown",
   "metadata": {},
   "source": [
    "# Question 3 - frequentist"
   ]
  },
  {
   "cell_type": "code",
   "execution_count": 6,
   "metadata": {},
   "outputs": [],
   "source": [
    "w = data[data.race=='w']\n",
    "b = data[data.race=='b']"
   ]
  },
  {
   "cell_type": "code",
   "execution_count": 7,
   "metadata": {
    "scrolled": true
   },
   "outputs": [
    {
     "name": "stdout",
     "output_type": "stream",
     "text": [
      "The number of black-sounding observations is: 2435\n",
      "The number of white-sounding observations is: 2435\n",
      "The empirical probability that someone with a white-sounding name receives a call is: 0.0965\n",
      "The empirical probability that someone with a black-sounding name receives a call is: 0.0645\n",
      "A difference of proportions test is appropriate in this scenario, and CLT does apply:\n",
      "n * p_w_call = 235.00 > 5\n",
      "n * p_b_call = 157.00 > 5\n",
      "Clearly n times (1 minus p) is also greater than 5\n",
      "\n",
      "Margins of error for the black and white proportions, respectively, are: 0.0098 and 0.0117\n",
      "\n",
      "The 95% confidence interval for the true proportion of those black-sounding names who receive a call is: (0.0547, 0.0742)\n",
      "The 95% confidence interval for the true proportion of those white-sounding names who receive a call is: (0.0848, 0.1082)\n",
      "\n",
      "The test statistic is equal to 4.12 and the p-value is equal to 0.00003863\n",
      "\n",
      "The low p-value indicates that we reject the null hypothesis and instead conclude that white-sounding names do not receive the same proportion of calls that black-sounding names receive, and by extension we conclude that white-sounding names receive more calls than black-sounding names do\n"
     ]
    }
   ],
   "source": [
    "################################    3. Compute margin of error, confidence interval, and p-value.\n",
    "\n",
    "print(\"The number of black-sounding observations is: {}\".format(b.shape[0]))\n",
    "print(\"The number of white-sounding observations is: {}\".format(w.shape[0]))\n",
    "\n",
    "p_w_call = sum(data[data.race=='w'].call) / w.shape[0]\n",
    "p_b_call = sum(data[data.race=='b'].call) / b.shape[0]\n",
    "\n",
    "print('The empirical probability that someone with a white-sounding name receives a call is: {:.4f}'.format(p_w_call))\n",
    "print('The empirical probability that someone with a black-sounding name receives a call is: {:.4f}'.format(p_b_call))\n",
    "print('A difference of proportions test is appropriate in this scenario, and CLT does apply:')\n",
    "print('n * p_w_call = {0:.2f} > 5'.format(w.shape[0] * p_w_call))\n",
    "print('n * p_b_call = {0:.2f} > 5'.format(b.shape[0] * p_b_call))\n",
    "print('Clearly n times (1 minus p) is also greater than 5')\n",
    "\n",
    "sigma_b = np.sqrt(p_b_call * (1 - p_b_call) / b.shape[0])\n",
    "sigma_w = np.sqrt(p_w_call * (1 - p_w_call) / w.shape[0])\n",
    "\n",
    "MOE_b = 1.96 * sigma_b\n",
    "MOE_w = 1.96 * sigma_w\n",
    "\n",
    "print('\\nMargins of error for the black and white proportions, respectively, are: {0:.4f} and {1:.4f}'.format(MOE_b, MOE_w))\n",
    "\n",
    "CI_b = (p_b_call - MOE_b, p_b_call + MOE_b)\n",
    "CI_w = (p_w_call - MOE_w, p_w_call + MOE_w)\n",
    "\n",
    "print('\\nThe 95% confidence interval for the true proportion of those black-sounding names who receive a call is: ({0:.4f}, \\\n",
    "{1:.4f})'.format(CI_b[0], CI_b[1]))\n",
    "print('The 95% confidence interval for the true proportion of those white-sounding names who receive a call is: ({0:.4f}, \\\n",
    "{1:.4f})'.format(CI_w[0], CI_w[1]))\n",
    "\n",
    "z_stat = (p_w_call - p_b_call) / np.sqrt(sigma_b ** 2 + sigma_w ** 2)\n",
    "\n",
    "print('\\nThe test statistic is equal to {0:.2f} and the p-value is equal to {1:.8f}'. \\\n",
    "      format(z_stat, 2 * (1 - stats.norm.cdf(abs(z_stat)))))\n",
    "\n",
    "print('\\nThe low p-value indicates that we reject the null hypothesis and instead conclude that white-sounding names \\\n",
    "do not receive the same proportion of calls that black-sounding names receive, and by extension we conclude that \\\n",
    "white-sounding names receive more calls than black-sounding names do')"
   ]
  },
  {
   "cell_type": "markdown",
   "metadata": {},
   "source": [
    "# Question 3 - bootstrapping"
   ]
  },
  {
   "cell_type": "code",
   "execution_count": 8,
   "metadata": {},
   "outputs": [
    {
     "name": "stdout",
     "output_type": "stream",
     "text": [
      "Using the bootstrapping approach, drawing 10000 samples with replacement from the 'race' and 'call' columns, we arrive at an average p-value of: 0.0035.  Hence, we reject the null that there is no difference between the proportions of black- and white-sounding names receiving calls for interviews.\n"
     ]
    }
   ],
   "source": [
    "################################    3. Compute margin of error, confidence interval, and p-value.\n",
    "\n",
    "# the below code is adapted from DataCamp: https://www.datacamp.com/courses/statistical-thinking-in-python-part-2\n",
    "\n",
    "############ ensure reproducibility of results\n",
    "\n",
    "np.random.seed(1)\n",
    "\n",
    "############ custom function to generate p-values\n",
    "\n",
    "def p_val(df):\n",
    "\n",
    "    b = df[df.race=='b']\n",
    "    w = df[df.race=='w']\n",
    "\n",
    "    p_b_call = sum(df[df.race=='b'].call) / b.shape[0]\n",
    "    p_w_call = sum(df[df.race=='w'].call) / w.shape[0]\n",
    "\n",
    "    sigma_b = np.sqrt(p_b_call * (1 - p_b_call) / b.shape[0])\n",
    "    sigma_w = np.sqrt(p_w_call * (1 - p_w_call) / w.shape[0])\n",
    "\n",
    "    z_stat = (p_w_call - p_b_call) / np.sqrt(sigma_b ** 2 + sigma_w ** 2)\n",
    "\n",
    "    return 2 * (1 - stats.norm.cdf(abs(z_stat)))\n",
    "\n",
    "############ sample from df w/ replacement and return bootstrap statistic of interest\n",
    "\n",
    "def bootstrap_replicate_1d(df, func):\n",
    "    bs_sample = df.sample(n=len(df), replace=True)\n",
    "    return func(bs_sample)\n",
    "\n",
    "############ draw n instances of the bootstrap statistic of interest\n",
    "\n",
    "def draw_bs_reps(df, func, size=1):\n",
    "    bs_replicates = np.empty(size)\n",
    "    \n",
    "    for i in range(size):\n",
    "        bs_replicates[i] = bootstrap_replicate_1d(df, func)\n",
    "        \n",
    "    return bs_replicates\n",
    "\n",
    "############ 10,000 p-values, each from 10,000 bootstrapped realizations of 'race' and 'call'\n",
    "\n",
    "bs_replicates = draw_bs_reps(data[['race', 'call']], p_val, 10000)\n",
    "\n",
    "print('Using the bootstrapping approach, drawing 10000 samples with replacement from the \\'race\\' and \\'call\\' columns, \\\n",
    "we arrive at an average p-value of: {0:.4f}.  Hence, we reject the null that there is no difference between the \\\n",
    "proportions of black- and white-sounding names receiving calls for interviews.'.format(bs_replicates.mean()))"
   ]
  },
  {
   "cell_type": "markdown",
   "metadata": {
    "collapsed": true
   },
   "source": [
    "<div class=\"span5 alert alert-success\">\n",
    "<p>Your answers to Q4 and Q5 here</p>\n",
    "</div>"
   ]
  },
  {
   "cell_type": "code",
   "execution_count": 9,
   "metadata": {},
   "outputs": [
    {
     "name": "stdout",
     "output_type": "stream",
     "text": [
      "4. This analysis indicates that race is a statistically significant factor in callback success, but it's not sufficient to conclude that race is the most important factor because it fails to consider other factors that employers might consider\n",
      "\n",
      "5. Further study may involve a multi-variable logistic regression with focus on the regressors' t-stats or the model's F-stat\n"
     ]
    }
   ],
   "source": [
    "################################    4. Write a story describing the statistical significance in the context or the \n",
    "################################    original problem.\n",
    "\n",
    "################################    5. Does your analysis mean that race/name is the most important factor in callback \n",
    "################################    success? Why or why not? If not, how would you amend your analysis?\n",
    "\n",
    "print(\"4. This analysis indicates that race is a statistically significant factor in callback success, but it's not \\\n",
    "sufficient to conclude that race is the most important factor because it fails to consider other factors that \\\n",
    "employers might consider\")\n",
    "\n",
    "print(\"\\n5. Further study may involve a multi-variable logistic regression with focus on the regressors' t-stats or the \\\n",
    "model's F-stat\")"
   ]
  }
 ],
 "metadata": {
  "kernelspec": {
   "display_name": "Python 3",
   "language": "python",
   "name": "python3"
  },
  "language_info": {
   "codemirror_mode": {
    "name": "ipython",
    "version": 3
   },
   "file_extension": ".py",
   "mimetype": "text/x-python",
   "name": "python",
   "nbconvert_exporter": "python",
   "pygments_lexer": "ipython3",
   "version": "3.7.1"
  }
 },
 "nbformat": 4,
 "nbformat_minor": 1
}
